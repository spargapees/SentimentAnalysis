{
  "cells": [
    {
      "cell_type": "code",
      "execution_count": 10,
      "metadata": {
        "id": "6C3Mc9NbqQRo"
      },
      "outputs": [],
      "source": [
        "import pandas as pd"
      ]
    },
    {
      "cell_type": "code",
      "execution_count": 11,
      "metadata": {
        "colab": {
          "base_uri": "https://localhost:8080/",
          "height": 424
        },
        "id": "cj2yeK1pqTjH",
        "outputId": "2f981225-b9b2-45e8-d457-70cf3903747f"
      },
      "outputs": [
        {
          "data": {
            "text/html": [
              "<div>\n",
              "<style scoped>\n",
              "    .dataframe tbody tr th:only-of-type {\n",
              "        vertical-align: middle;\n",
              "    }\n",
              "\n",
              "    .dataframe tbody tr th {\n",
              "        vertical-align: top;\n",
              "    }\n",
              "\n",
              "    .dataframe thead th {\n",
              "        text-align: right;\n",
              "    }\n",
              "</style>\n",
              "<table border=\"1\" class=\"dataframe\">\n",
              "  <thead>\n",
              "    <tr style=\"text-align: right;\">\n",
              "      <th></th>\n",
              "      <th>PhraseId</th>\n",
              "      <th>SentenceId</th>\n",
              "      <th>Phrase</th>\n",
              "      <th>Sentiment</th>\n",
              "    </tr>\n",
              "  </thead>\n",
              "  <tbody>\n",
              "    <tr>\n",
              "      <th>0</th>\n",
              "      <td>1</td>\n",
              "      <td>1</td>\n",
              "      <td>A series of escapades demonstrating the adage ...</td>\n",
              "      <td>1</td>\n",
              "    </tr>\n",
              "    <tr>\n",
              "      <th>1</th>\n",
              "      <td>2</td>\n",
              "      <td>1</td>\n",
              "      <td>A series of escapades demonstrating the adage ...</td>\n",
              "      <td>2</td>\n",
              "    </tr>\n",
              "    <tr>\n",
              "      <th>2</th>\n",
              "      <td>3</td>\n",
              "      <td>1</td>\n",
              "      <td>A series</td>\n",
              "      <td>2</td>\n",
              "    </tr>\n",
              "    <tr>\n",
              "      <th>3</th>\n",
              "      <td>4</td>\n",
              "      <td>1</td>\n",
              "      <td>A</td>\n",
              "      <td>2</td>\n",
              "    </tr>\n",
              "    <tr>\n",
              "      <th>4</th>\n",
              "      <td>5</td>\n",
              "      <td>1</td>\n",
              "      <td>series</td>\n",
              "      <td>2</td>\n",
              "    </tr>\n",
              "    <tr>\n",
              "      <th>...</th>\n",
              "      <td>...</td>\n",
              "      <td>...</td>\n",
              "      <td>...</td>\n",
              "      <td>...</td>\n",
              "    </tr>\n",
              "    <tr>\n",
              "      <th>156055</th>\n",
              "      <td>156056</td>\n",
              "      <td>8544</td>\n",
              "      <td>Hearst 's</td>\n",
              "      <td>2</td>\n",
              "    </tr>\n",
              "    <tr>\n",
              "      <th>156056</th>\n",
              "      <td>156057</td>\n",
              "      <td>8544</td>\n",
              "      <td>forced avuncular chortles</td>\n",
              "      <td>1</td>\n",
              "    </tr>\n",
              "    <tr>\n",
              "      <th>156057</th>\n",
              "      <td>156058</td>\n",
              "      <td>8544</td>\n",
              "      <td>avuncular chortles</td>\n",
              "      <td>3</td>\n",
              "    </tr>\n",
              "    <tr>\n",
              "      <th>156058</th>\n",
              "      <td>156059</td>\n",
              "      <td>8544</td>\n",
              "      <td>avuncular</td>\n",
              "      <td>2</td>\n",
              "    </tr>\n",
              "    <tr>\n",
              "      <th>156059</th>\n",
              "      <td>156060</td>\n",
              "      <td>8544</td>\n",
              "      <td>chortles</td>\n",
              "      <td>2</td>\n",
              "    </tr>\n",
              "  </tbody>\n",
              "</table>\n",
              "<p>156060 rows × 4 columns</p>\n",
              "</div>"
            ],
            "text/plain": [
              "        PhraseId  SentenceId  \\\n",
              "0              1           1   \n",
              "1              2           1   \n",
              "2              3           1   \n",
              "3              4           1   \n",
              "4              5           1   \n",
              "...          ...         ...   \n",
              "156055    156056        8544   \n",
              "156056    156057        8544   \n",
              "156057    156058        8544   \n",
              "156058    156059        8544   \n",
              "156059    156060        8544   \n",
              "\n",
              "                                                   Phrase  Sentiment  \n",
              "0       A series of escapades demonstrating the adage ...          1  \n",
              "1       A series of escapades demonstrating the adage ...          2  \n",
              "2                                                A series          2  \n",
              "3                                                       A          2  \n",
              "4                                                  series          2  \n",
              "...                                                   ...        ...  \n",
              "156055                                          Hearst 's          2  \n",
              "156056                          forced avuncular chortles          1  \n",
              "156057                                 avuncular chortles          3  \n",
              "156058                                          avuncular          2  \n",
              "156059                                           chortles          2  \n",
              "\n",
              "[156060 rows x 4 columns]"
            ]
          },
          "execution_count": 11,
          "metadata": {},
          "output_type": "execute_result"
        }
      ],
      "source": [
        "data_train = pd.read_table('train.tsv')\n",
        "\n",
        "data_train"
      ]
    },
    {
      "cell_type": "code",
      "execution_count": 12,
      "metadata": {
        "colab": {
          "base_uri": "https://localhost:8080/"
        },
        "id": "yoOqEr3M_Qo5",
        "outputId": "3addea12-71db-4664-946e-9389b3d5117f"
      },
      "outputs": [
        {
          "name": "stdout",
          "output_type": "stream",
          "text": [
            "<class 'pandas.core.frame.DataFrame'>\n",
            "RangeIndex: 156060 entries, 0 to 156059\n",
            "Data columns (total 4 columns):\n",
            " #   Column      Non-Null Count   Dtype \n",
            "---  ------      --------------   ----- \n",
            " 0   PhraseId    156060 non-null  int64 \n",
            " 1   SentenceId  156060 non-null  int64 \n",
            " 2   Phrase      156060 non-null  object\n",
            " 3   Sentiment   156060 non-null  int64 \n",
            "dtypes: int64(3), object(1)\n",
            "memory usage: 4.8+ MB\n"
          ]
        }
      ],
      "source": [
        "data_train.info()"
      ]
    },
    {
      "cell_type": "code",
      "execution_count": 13,
      "metadata": {
        "colab": {
          "base_uri": "https://localhost:8080/",
          "height": 449
        },
        "id": "lgeZ6XcIqTlX",
        "outputId": "1ca3556b-023b-4a41-a002-d9cd8fc8d414"
      },
      "outputs": [
        {
          "data": {
            "image/png": "[encoded data removed]",
            "text/plain": [
              "<Figure size 640x480 with 1 Axes>"
            ]
          },
          "metadata": {},
          "output_type": "display_data"
        }
      ],
      "source": [
        "import matplotlib.pyplot as plt\n",
        "data_train.Sentiment.value_counts().sort_index().plot(kind='bar')\n",
        "plt.xticks(rotation=0)\n",
        "plt.show()"
      ]
    },
    {
      "cell_type": "code",
      "execution_count": 14,
      "metadata": {},
      "outputs": [
        {
          "name": "stdout",
          "output_type": "stream",
          "text": [
            "                   precision    recall  f1-score   support\n",
            "\n",
            "         negative       0.59      0.19      0.29      1416\n",
            "somewhat negative       0.52      0.35      0.42      5527\n",
            "          neutral       0.66      0.88      0.76     15639\n",
            "somewhat positive       0.56      0.46      0.51      6707\n",
            "         positive       0.62      0.26      0.36      1923\n",
            "\n",
            "         accuracy                           0.63     31212\n",
            "        macro avg       0.59      0.43      0.47     31212\n",
            "     weighted avg       0.61      0.63      0.60     31212\n",
            "\n"
          ]
        }
      ],
      "source": [
        "from sklearn.model_selection import train_test_split\n",
        "from sklearn.feature_extraction.text import TfidfVectorizer\n",
        "from sklearn.linear_model import LogisticRegression\n",
        "from sklearn.metrics import classification_report\n",
        "X = data_train['Phrase']\n",
        "y = data_train['Sentiment']\n",
        "\n",
        "# Split the data into training and testing sets\n",
        "X_train, X_test, y_train, y_test = train_test_split(X, y, test_size=0.2, random_state=42)\n",
        "\n",
        "# Vectorize the text data using TF-IDF\n",
        "vectorizer = TfidfVectorizer(max_features=5000)\n",
        "X_train_tfidf = vectorizer.fit_transform(X_train)\n",
        "X_test_tfidf = vectorizer.transform(X_test)\n",
        "\n",
        "# Train a logistic regression model\n",
        "model = LogisticRegression(max_iter=1000)\n",
        "model.fit(X_train_tfidf, y_train)\n",
        "\n",
        "# Make predictions on the test data\n",
        "y_pred = model.predict(X_test_tfidf)\n",
        "\n",
        "# Evaluate the model\n",
        "report = classification_report(y_test, y_pred, target_names=['negative', 'somewhat negative', 'neutral', 'somewhat positive', 'positive'])\n",
        "print(report)"
      ]
    },
    {
      "cell_type": "code",
      "execution_count": 15,
      "metadata": {},
      "outputs": [
        {
          "name": "stdout",
          "output_type": "stream",
          "text": [
            "                   precision    recall  f1-score   support\n",
            "\n",
            "         negative       0.69      0.04      0.08      1416\n",
            "somewhat negative       0.52      0.17      0.26      5527\n",
            "          neutral       0.58      0.94      0.72     15639\n",
            "somewhat positive       0.55      0.32      0.40      6707\n",
            "         positive       0.66      0.07      0.13      1923\n",
            "\n",
            "         accuracy                           0.57     31212\n",
            "        macro avg       0.60      0.31      0.32     31212\n",
            "     weighted avg       0.57      0.57      0.50     31212\n",
            "\n"
          ]
        }
      ],
      "source": [
        "from sklearn.naive_bayes import MultinomialNB\n",
        "from sklearn.metrics import classification_report\n",
        "nb_model = MultinomialNB()\n",
        "nb_model.fit(X_train_tfidf, y_train)\n",
        "\n",
        "# Make predictions on the test data\n",
        "y_pred_nb = nb_model.predict(X_test_tfidf)\n",
        "\n",
        "# Evaluate the model\n",
        "report_nb = classification_report(y_test, y_pred_nb, target_names=['negative', 'somewhat negative', 'neutral', 'somewhat positive', 'positive'])\n",
        "print(report_nb)"
      ]
    },
    {
      "cell_type": "code",
      "execution_count": 16,
      "metadata": {
        "id": "z7XPtg1tGSlp"
      },
      "outputs": [
        {
          "name": "stderr",
          "output_type": "stream",
          "text": [
            "c:\\Users\\AI lab\\AppData\\Local\\Programs\\Python\\Python312\\Lib\\site-packages\\sklearn\\svm\\_classes.py:31: FutureWarning: The default value of `dual` will change from `True` to `'auto'` in 1.5. Set the value of `dual` explicitly to suppress the warning.\n",
            "  warnings.warn(\n"
          ]
        },
        {
          "name": "stdout",
          "output_type": "stream",
          "text": [
            "                   precision    recall  f1-score   support\n",
            "\n",
            "         negative       0.56      0.22      0.32      1416\n",
            "somewhat negative       0.52      0.36      0.42      5527\n",
            "          neutral       0.67      0.87      0.75     15639\n",
            "somewhat positive       0.55      0.46      0.50      6707\n",
            "         positive       0.59      0.29      0.39      1923\n",
            "\n",
            "         accuracy                           0.62     31212\n",
            "        macro avg       0.58      0.44      0.48     31212\n",
            "     weighted avg       0.61      0.62      0.60     31212\n",
            "\n"
          ]
        }
      ],
      "source": [
        "from sklearn.svm import LinearSVC\n",
        "\n",
        "# Train a Support Vector Machine (SVM) model\n",
        "svm_model = LinearSVC(max_iter=1000)\n",
        "svm_model.fit(X_train_tfidf, y_train)\n",
        "\n",
        "# Make predictions on the test data\n",
        "y_pred_svm = svm_model.predict(X_test_tfidf)\n",
        "\n",
        "# Evaluate the model\n",
        "report_svm = classification_report(y_test, y_pred_svm, target_names=['negative', 'somewhat negative', 'neutral', 'somewhat positive', 'positive'])\n",
        "print(report_svm)"
      ]
    },
    {
      "cell_type": "code",
      "execution_count": 17,
      "metadata": {},
      "outputs": [
        {
          "name": "stdout",
          "output_type": "stream",
          "text": [
            "                   precision    recall  f1-score   support\n",
            "\n",
            "         negative       0.46      0.33      0.38      1416\n",
            "somewhat negative       0.54      0.40      0.46      5527\n",
            "          neutral       0.68      0.84      0.75     15639\n",
            "somewhat positive       0.56      0.45      0.50      6707\n",
            "         positive       0.50      0.36      0.42      1923\n",
            "\n",
            "         accuracy                           0.62     31212\n",
            "        macro avg       0.55      0.48      0.50     31212\n",
            "     weighted avg       0.61      0.62      0.61     31212\n",
            "\n"
          ]
        }
      ],
      "source": [
        "from sklearn.ensemble import RandomForestClassifier\n",
        "\n",
        "# Train a Random Forest model\n",
        "rf_model = RandomForestClassifier(n_estimators=100, random_state=42)\n",
        "rf_model.fit(X_train_tfidf, y_train)\n",
        "\n",
        "# Make predictions on the test data\n",
        "y_pred_rf = rf_model.predict(X_test_tfidf)\n",
        "\n",
        "# Evaluate the model\n",
        "report_rf = classification_report(y_test, y_pred_rf, target_names=['negative', 'somewhat negative', 'neutral', 'somewhat positive', 'positive'])\n",
        "print(report_rf)"
      ]
    },
    {
      "cell_type": "code",
      "execution_count": 20,
      "metadata": {},
      "outputs": [],
      "source": [
        "from sklearn.feature_extraction.text import CountVectorizer\n",
        "\n",
        "vectorizer = CountVectorizer(max_features=5000)\n",
        "X_train_count = vectorizer.fit_transform(X_train)\n",
        "X_test_count = vectorizer.transform(X_test)\n",
        "\n",
        "X_train_count = X_train_count.toarray()\n",
        "X_test_count = X_test_count.toarray()\n"
      ]
    },
    {
      "cell_type": "code",
      "execution_count": 21,
      "metadata": {},
      "outputs": [
        {
          "name": "stdout",
          "output_type": "stream",
          "text": [
            "                   precision    recall  f1-score   support\n",
            "\n",
            "         negative       0.55      0.26      0.35      1416\n",
            "somewhat negative       0.53      0.35      0.42      5527\n",
            "          neutral       0.67      0.88      0.76     15639\n",
            "somewhat positive       0.57      0.45      0.50      6707\n",
            "         positive       0.59      0.34      0.43      1923\n",
            "\n",
            "         accuracy                           0.63     31212\n",
            "        macro avg       0.58      0.45      0.49     31212\n",
            "     weighted avg       0.61      0.63      0.60     31212\n",
            "\n"
          ]
        }
      ],
      "source": [
        "model = LogisticRegression(max_iter=1000)\n",
        "model.fit(X_train_count, y_train)\n",
        "\n",
        "# Make predictions on the test data\n",
        "y_pred = model.predict(X_test_count)\n",
        "\n",
        "# Evaluate the model\n",
        "report = classification_report(y_test, y_pred, target_names=['negative', 'somewhat negative', 'neutral', 'somewhat positive', 'positive'])\n",
        "print(report)"
      ]
    },
    {
      "cell_type": "code",
      "execution_count": 22,
      "metadata": {},
      "outputs": [
        {
          "name": "stdout",
          "output_type": "stream",
          "text": [
            "                   precision    recall  f1-score   support\n",
            "\n",
            "         negative       0.49      0.27      0.35      1416\n",
            "somewhat negative       0.50      0.32      0.39      5527\n",
            "          neutral       0.65      0.86      0.74     15639\n",
            "somewhat positive       0.55      0.42      0.48      6707\n",
            "         positive       0.54      0.33      0.41      1923\n",
            "\n",
            "         accuracy                           0.61     31212\n",
            "        macro avg       0.55      0.44      0.47     31212\n",
            "     weighted avg       0.59      0.61      0.58     31212\n",
            "\n"
          ]
        }
      ],
      "source": [
        "\n",
        "nb_model = MultinomialNB()\n",
        "nb_model.fit(X_train_count, y_train)\n",
        "\n",
        "# Make predictions on the test data\n",
        "y_pred_nb = nb_model.predict(X_test_count)\n",
        "\n",
        "# Evaluate the model\n",
        "report_nb = classification_report(y_test, y_pred_nb, target_names=['negative', 'somewhat negative', 'neutral', 'somewhat positive', 'positive'])\n",
        "print(report_nb)"
      ]
    },
    {
      "cell_type": "code",
      "execution_count": 23,
      "metadata": {},
      "outputs": [
        {
          "name": "stderr",
          "output_type": "stream",
          "text": [
            "c:\\Users\\AI lab\\AppData\\Local\\Programs\\Python\\Python312\\Lib\\site-packages\\sklearn\\svm\\_classes.py:31: FutureWarning: The default value of `dual` will change from `True` to `'auto'` in 1.5. Set the value of `dual` explicitly to suppress the warning.\n",
            "  warnings.warn(\n",
            "c:\\Users\\AI lab\\AppData\\Local\\Programs\\Python\\Python312\\Lib\\site-packages\\sklearn\\svm\\_base.py:1237: ConvergenceWarning: Liblinear failed to converge, increase the number of iterations.\n",
            "  warnings.warn(\n"
          ]
        },
        {
          "name": "stdout",
          "output_type": "stream",
          "text": [
            "                   precision    recall  f1-score   support\n",
            "\n",
            "         negative       0.54      0.27      0.36      1416\n",
            "somewhat negative       0.52      0.31      0.39      5527\n",
            "          neutral       0.65      0.89      0.75     15639\n",
            "somewhat positive       0.56      0.39      0.46      6707\n",
            "         positive       0.55      0.34      0.42      1923\n",
            "\n",
            "         accuracy                           0.62     31212\n",
            "        macro avg       0.57      0.44      0.48     31212\n",
            "     weighted avg       0.60      0.62      0.59     31212\n",
            "\n"
          ]
        }
      ],
      "source": [
        "\n",
        "\n",
        "# Train a Support Vector Machine (SVM) model\n",
        "svm_model = LinearSVC(max_iter=1000)\n",
        "svm_model.fit(X_train_count, y_train)\n",
        "\n",
        "# Make predictions on the test data\n",
        "y_pred_svm = svm_model.predict(X_test_count)\n",
        "\n",
        "# Evaluate the model\n",
        "report_svm = classification_report(y_test, y_pred_svm, target_names=['negative', 'somewhat negative', 'neutral', 'somewhat positive', 'positive'])\n",
        "print(report_svm)"
      ]
    }
  ],
  "metadata": {
    "colab": {
      "provenance": []
    },
    "kernelspec": {
      "display_name": "Python 3",
      "name": "python3"
    },
    "language_info": {
      "codemirror_mode": {
        "name": "ipython",
        "version": 3
      },
      "file_extension": ".py",
      "mimetype": "text/x-python",
      "name": "python",
      "nbconvert_exporter": "python",
      "pygments_lexer": "ipython3",
      "version": "3.12.2"
    }
  },
  "nbformat": 4,
  "nbformat_minor": 0
}
